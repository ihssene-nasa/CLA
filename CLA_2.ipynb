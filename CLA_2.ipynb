{
  "nbformat": 4,
  "nbformat_minor": 0,
  "metadata": {
    "colab": {
      "name": "CLA_2",
      "provenance": [],
      "authorship_tag": "ABX9TyPFli/v5eDLHvvGfxarxBC2",
      "include_colab_link": true
    },
    "kernelspec": {
      "name": "python3",
      "display_name": "Python 3"
    },
    "language_info": {
      "name": "python"
    }
  },
  "cells": [
    {
      "cell_type": "markdown",
      "metadata": {
        "id": "view-in-github",
        "colab_type": "text"
      },
      "source": [
        "<a href=\"https://colab.research.google.com/github/ihssene-nasa/CLA/blob/main/CLA_2.ipynb\" target=\"_parent\"><img src=\"https://colab.research.google.com/assets/colab-badge.svg\" alt=\"Open In Colab\"/></a>"
      ]
    },
    {
      "cell_type": "code",
      "metadata": {
        "colab": {
          "base_uri": "https://localhost:8080/"
        },
        "id": "dHvM6iN4mdt6",
        "outputId": "40204c30-d24c-4054-def2-6fc8d4f2932d"
      },
      "source": [
        "file = open('student_names.txt')\n",
        "students = file.read()\n",
        "print(students)"
      ],
      "execution_count": 14,
      "outputs": [
        {
          "output_type": "stream",
          "name": "stdout",
          "text": [
            "Alaa\n",
            "Ikram\n",
            "Ibtissem\n"
          ]
        }
      ]
    },
    {
      "cell_type": "code",
      "metadata": {
        "id": "5ueRJ8rBnFLj"
      },
      "source": [
        "students = students + '\\nIhssene\\nAsma\\nNabila'"
      ],
      "execution_count": 15,
      "outputs": []
    },
    {
      "cell_type": "code",
      "metadata": {
        "colab": {
          "base_uri": "https://localhost:8080/"
        },
        "id": "b46BrOQ6nQI_",
        "outputId": "23d61764-a482-4b78-9b1a-6f9c63bcbcae"
      },
      "source": [
        "file = open('student_names.txt','w')\n",
        "file.write(students)"
      ],
      "execution_count": 16,
      "outputs": [
        {
          "output_type": "execute_result",
          "data": {
            "text/plain": [
              "39"
            ]
          },
          "metadata": {},
          "execution_count": 16
        }
      ]
    },
    {
      "cell_type": "code",
      "metadata": {
        "colab": {
          "base_uri": "https://localhost:8080/"
        },
        "id": "s6Acz-hco2aq",
        "outputId": "cac05089-8ffa-4bc8-916c-ce335187b7ee"
      },
      "source": [
        "print(students)"
      ],
      "execution_count": 32,
      "outputs": [
        {
          "output_type": "stream",
          "name": "stdout",
          "text": [
            "Alaa\n",
            "Ikram\n",
            "Ibtissem\n",
            "Ihssene\n",
            "Asma\n",
            "Nabila\n"
          ]
        }
      ]
    },
    {
      "cell_type": "code",
      "metadata": {
        "colab": {
          "base_uri": "https://localhost:8080/"
        },
        "id": "qmGrV7IJqnzW",
        "outputId": "f72eddf4-4ac9-42cf-9182-5b6a8f2f10b9"
      },
      "source": [
        "n = int(input())"
      ],
      "execution_count": 53,
      "outputs": [
        {
          "name": "stdout",
          "output_type": "stream",
          "text": [
            "4\n"
          ]
        }
      ]
    },
    {
      "cell_type": "code",
      "metadata": {
        "colab": {
          "base_uri": "https://localhost:8080/"
        },
        "id": "jQP2oNO42Iuq",
        "outputId": "1e18b10e-75d9-41e1-d4bf-b5594a121964"
      },
      "source": [
        "    with open(\"student_names.txt\") as file:\n",
        "         \n",
        "        for line in (file.readlines() [:n]):\n",
        "            print(line, end ='')"
      ],
      "execution_count": 55,
      "outputs": [
        {
          "output_type": "stream",
          "name": "stdout",
          "text": [
            "Alaa\n",
            "Ikram\n",
            "Ibtissem\n",
            "Ihssene\n"
          ]
        }
      ]
    },
    {
      "cell_type": "code",
      "metadata": {
        "colab": {
          "base_uri": "https://localhost:8080/"
        },
        "id": "t8j1HLS_zDVr",
        "outputId": "494af454-29f9-465f-9762-e35fb00963ec"
      },
      "source": [
        "    with open(\"student_names.txt\") as file:\n",
        "         \n",
        "        for line in (file.readlines() [-n:]):\n",
        "            print(line, end ='')"
      ],
      "execution_count": 54,
      "outputs": [
        {
          "output_type": "stream",
          "name": "stdout",
          "text": [
            "Ibtissem\n",
            "Ihssene\n",
            "Asma\n",
            "Nabila"
          ]
        }
      ]
    },
    {
      "cell_type": "code",
      "metadata": {
        "colab": {
          "base_uri": "https://localhost:8080/"
        },
        "id": "WZ1tO6zG2Xxo",
        "outputId": "342a30b2-2859-4e5e-8be0-e367843d5437"
      },
      "source": [
        "with open('student_names.txt') as file:\n",
        "    f = file.read()\n",
        "    name = input()\n",
        "    if name in f:\n",
        "        print ('name found')\n",
        "    else:\n",
        "        print ('name not found')"
      ],
      "execution_count": 60,
      "outputs": [
        {
          "output_type": "stream",
          "name": "stdout",
          "text": [
            "Ihssene\n",
            "name found\n"
          ]
        }
      ]
    },
    {
      "cell_type": "code",
      "metadata": {
        "id": "SE82MxSF3EAU"
      },
      "source": [
        "import string, os\n",
        "os.makedirs(\"Alphabet\")\n",
        "for Alphabet in string.ascii_uppercase:\n",
        "   with open(Alphabet + \".txt\", \"w\") as f:\n",
        "       f.writelines(Alphabet)"
      ],
      "execution_count": 62,
      "outputs": []
    }
  ]
}