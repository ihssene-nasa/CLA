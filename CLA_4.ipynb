{
  "nbformat": 4,
  "nbformat_minor": 0,
  "metadata": {
    "colab": {
      "name": "CLA_4",
      "provenance": [],
      "authorship_tag": "ABX9TyPeUqb9XziZCPuXaOZuyqFG",
      "include_colab_link": true
    },
    "kernelspec": {
      "name": "python3",
      "display_name": "Python 3"
    },
    "language_info": {
      "name": "python"
    }
  },
  "cells": [
    {
      "cell_type": "markdown",
      "metadata": {
        "id": "view-in-github",
        "colab_type": "text"
      },
      "source": [
        "<a href=\"https://colab.research.google.com/github/ihssene-nasa/CLA/blob/main/CLA_4.ipynb\" target=\"_parent\"><img src=\"https://colab.research.google.com/assets/colab-badge.svg\" alt=\"Open In Colab\"/></a>"
      ]
    },
    {
      "cell_type": "code",
      "metadata": {
        "colab": {
          "base_uri": "https://localhost:8080/"
        },
        "id": "eGuGu0vMBSXu",
        "outputId": "858dc7a8-723b-4a18-cda7-e4a2106a6bc3"
      },
      "source": [
        "a = 12\n",
        "s = \"hello\"\n",
        "try:\n",
        "\tprint(\"inside try\")\n",
        "\tprint(a + s) # will raise TypeError\n",
        "\tprint(\"Printed using original data types\")\n",
        "except TypeError: # will handle only TypeError\n",
        "\tprint(\"inside except\")\n",
        "\tprint(str(a) + s)\n",
        "\tprint(\"Printed using type-casted data types\")"
      ],
      "execution_count": 1,
      "outputs": [
        {
          "output_type": "stream",
          "name": "stdout",
          "text": [
            "inside try\n",
            "inside except\n",
            "12hello\n",
            "Printed using type-casted data types\n"
          ]
        }
      ]
    }
  ]
}