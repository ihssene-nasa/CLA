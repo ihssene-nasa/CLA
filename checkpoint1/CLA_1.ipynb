{
  "nbformat": 4,
  "nbformat_minor": 0,
  "metadata": {
    "colab": {
      "name": "CLA_1",
      "provenance": []
    },
    "kernelspec": {
      "name": "python3",
      "display_name": "Python 3"
    },
    "language_info": {
      "name": "python"
    }
  },
  "cells": [
    {
      "cell_type": "code",
      "metadata": {
        "id": "avAJYJufkTkf"
      },
      "source": [
        "listeven = []\n",
        "for i in range(1,300):\n",
        "  if i%2 == 0 :\n",
        "    listeven.append(i)\n"
      ],
      "execution_count": 3,
      "outputs": []
    },
    {
      "cell_type": "code",
      "metadata": {
        "colab": {
          "base_uri": "https://localhost:8080/"
        },
        "id": "oSEYUov7lIVc",
        "outputId": "e66bf5ec-4d3d-43e1-a6e1-81d4ce8c9e07"
      },
      "source": [
        "len(listeven)"
      ],
      "execution_count": 5,
      "outputs": [
        {
          "output_type": "execute_result",
          "data": {
            "text/plain": [
              "149"
            ]
          },
          "metadata": {},
          "execution_count": 5
        }
      ]
    },
    {
      "cell_type": "code",
      "metadata": {
        "colab": {
          "base_uri": "https://localhost:8080/"
        },
        "id": "_XBmGzYQlMq0",
        "outputId": "a6f2b2b5-4b17-47ea-d727-28b33182255e"
      },
      "source": [
        "for i in listeven : \n",
        "  print(i**2)"
      ],
      "execution_count": 7,
      "outputs": [
        {
          "output_type": "stream",
          "name": "stdout",
          "text": [
            "4\n",
            "16\n",
            "36\n",
            "64\n",
            "100\n",
            "144\n",
            "196\n",
            "256\n",
            "324\n",
            "400\n",
            "484\n",
            "576\n",
            "676\n",
            "784\n",
            "900\n",
            "1024\n",
            "1156\n",
            "1296\n",
            "1444\n",
            "1600\n",
            "1764\n",
            "1936\n",
            "2116\n",
            "2304\n",
            "2500\n",
            "2704\n",
            "2916\n",
            "3136\n",
            "3364\n",
            "3600\n",
            "3844\n",
            "4096\n",
            "4356\n",
            "4624\n",
            "4900\n",
            "5184\n",
            "5476\n",
            "5776\n",
            "6084\n",
            "6400\n",
            "6724\n",
            "7056\n",
            "7396\n",
            "7744\n",
            "8100\n",
            "8464\n",
            "8836\n",
            "9216\n",
            "9604\n",
            "10000\n",
            "10404\n",
            "10816\n",
            "11236\n",
            "11664\n",
            "12100\n",
            "12544\n",
            "12996\n",
            "13456\n",
            "13924\n",
            "14400\n",
            "14884\n",
            "15376\n",
            "15876\n",
            "16384\n",
            "16900\n",
            "17424\n",
            "17956\n",
            "18496\n",
            "19044\n",
            "19600\n",
            "20164\n",
            "20736\n",
            "21316\n",
            "21904\n",
            "22500\n",
            "23104\n",
            "23716\n",
            "24336\n",
            "24964\n",
            "25600\n",
            "26244\n",
            "26896\n",
            "27556\n",
            "28224\n",
            "28900\n",
            "29584\n",
            "30276\n",
            "30976\n",
            "31684\n",
            "32400\n",
            "33124\n",
            "33856\n",
            "34596\n",
            "35344\n",
            "36100\n",
            "36864\n",
            "37636\n",
            "38416\n",
            "39204\n",
            "40000\n",
            "40804\n",
            "41616\n",
            "42436\n",
            "43264\n",
            "44100\n",
            "44944\n",
            "45796\n",
            "46656\n",
            "47524\n",
            "48400\n",
            "49284\n",
            "50176\n",
            "51076\n",
            "51984\n",
            "52900\n",
            "53824\n",
            "54756\n",
            "55696\n",
            "56644\n",
            "57600\n",
            "58564\n",
            "59536\n",
            "60516\n",
            "61504\n",
            "62500\n",
            "63504\n",
            "64516\n",
            "65536\n",
            "66564\n",
            "67600\n",
            "68644\n",
            "69696\n",
            "70756\n",
            "71824\n",
            "72900\n",
            "73984\n",
            "75076\n",
            "76176\n",
            "77284\n",
            "78400\n",
            "79524\n",
            "80656\n",
            "81796\n",
            "82944\n",
            "84100\n",
            "85264\n",
            "86436\n",
            "87616\n",
            "88804\n"
          ]
        }
      ]
    },
    {
      "cell_type": "code",
      "metadata": {
        "colab": {
          "base_uri": "https://localhost:8080/"
        },
        "id": "Wofwz_PFlXjC",
        "outputId": "01352cbc-4f8a-43f4-af71-de7be3fb04ea"
      },
      "source": [
        "print (57 in listeven)"
      ],
      "execution_count": 8,
      "outputs": [
        {
          "output_type": "stream",
          "name": "stdout",
          "text": [
            "False\n"
          ]
        }
      ]
    }
  ]
}